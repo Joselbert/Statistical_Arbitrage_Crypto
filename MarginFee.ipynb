{
 "cells": [
  {
   "cell_type": "code",
   "execution_count": 1,
   "id": "d36be996",
   "metadata": {},
   "outputs": [],
   "source": [
    "from selenium import webdriver\n",
    "from selenium.webdriver.chrome.options import Options\n",
    "from selenium.webdriver.common.by import By\n",
    "from selenium.webdriver.common.keys import Keys\n",
    "from selenium import webdriver\n",
    "from selenium.webdriver.common.by import By\n",
    "from selenium.webdriver.support import expected_conditions as EC\n",
    "from selenium.webdriver.support.wait import WebDriverWait\n",
    "import time \n",
    "\n",
    "def getMarginRate(name):\n",
    "    options = Options()\n",
    "    options.add_argument(\"--disable-notifications\");\n",
    "    options.add_argument(\"disable-infobars\");\n",
    "    options.add_argument('--headless')\n",
    "    options.add_argument('--disable-gpu')\n",
    "    driver = webdriver.Chrome(options=options)\n",
    "    url = \"https://www.binance.com/en/margin/interest-history\"\n",
    "    driver.get(url)\n",
    "    wait = WebDriverWait(driver, 15)\n",
    "    wait.until(EC.element_to_be_clickable((By.XPATH, '//*[@id=\"onetrust-accept-btn-handler\"]')))\n",
    "    driver.find_element(By.XPATH, '//*[@id=\"onetrust-accept-btn-handler\"]').click()\n",
    "    driver.find_element(By.XPATH, '//*[@id=\"__APP\"]/div[2]/div/div/div[2]/div[1]/div[1]/div[2]/div[1]/input').click()\n",
    "    path2 = '//*[@id=\"__APP\"]/div[2]/div/div/div[2]/div[1]/div[1]/div[2]/div[2]/div/div/input'\n",
    "    driver.find_element(By.XPATH,path2).send_keys(name)\n",
    "    driver.find_element(By.XPATH,path2).send_keys(Keys.ENTER)\n",
    "    path3 = '//*[@id=\"__APP\"]/div[2]/div/div/div[2]/div[1]/button[1]'\n",
    "    driver.find_element(By.XPATH,path3).click()\n",
    "    time.sleep(0.5)\n",
    "    path_wait =  '//*[@id=\"__APP\"]/div[2]/div/div/div[2]/div[3]/div[1]/div/div/table/tbody/tr[1]/td[2]'\n",
    "    while driver.find_element(By.XPATH,path_wait).text != name:\n",
    "        pass\n",
    "    path4 = '//*[@id=\"__APP\"]/div[2]/div/div/div[2]/div[3]/div[1]/div/div/table/tbody/tr[1]/td[3]'\n",
    "    rate = driver.find_element(By.XPATH,path4).text\n",
    "    rate = float(rate.split(\"%\")[0])/100\n",
    "    return rate\n",
    "    \n"
   ]
  },
  {
   "cell_type": "code",
   "execution_count": 2,
   "id": "846f3547",
   "metadata": {},
   "outputs": [
    {
     "data": {
      "text/plain": [
       "0.003"
      ]
     },
     "execution_count": 2,
     "metadata": {},
     "output_type": "execute_result"
    }
   ],
   "source": [
    "getMarginRate(\"BNB\")"
   ]
  },
  {
   "cell_type": "code",
   "execution_count": null,
   "id": "b6ed01e7",
   "metadata": {},
   "outputs": [],
   "source": []
  }
 ],
 "metadata": {
  "kernelspec": {
   "display_name": "Python 3 (ipykernel)",
   "language": "python",
   "name": "python3"
  },
  "language_info": {
   "codemirror_mode": {
    "name": "ipython",
    "version": 3
   },
   "file_extension": ".py",
   "mimetype": "text/x-python",
   "name": "python",
   "nbconvert_exporter": "python",
   "pygments_lexer": "ipython3",
   "version": "3.9.7"
  }
 },
 "nbformat": 4,
 "nbformat_minor": 5
}
