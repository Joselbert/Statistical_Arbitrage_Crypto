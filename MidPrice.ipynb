{
 "cells": [
  {
   "cell_type": "code",
   "execution_count": 5,
   "id": "27d08ade",
   "metadata": {},
   "outputs": [],
   "source": [
    "def LoadDataset(path):\n",
    "    \"\"\"\n",
    "    Function to load a dataset and to set the time as index\n",
    "    names of the columns are taken from: https://github.com/binance/binance-spot-api-docs/blob/master/rest-api.md#old-trade-lookup-market_data\n",
    "    Input:\n",
    "      -path: str\n",
    "            path of the zipped dataset to open\n",
    "    Output: \n",
    "      -df : pd.DataFrame\n",
    "    \n",
    "    \"\"\"\n",
    "    df = pd.read_csv(path, header = None)\n",
    "    df.columns = [ \"Id\"\t,\"price\",\t\"qty\",\t\"quoteQty\",\t\"time\"\t,\"isBuyerMaker\",\t\"isBestMatch\"]\n",
    "    df[\"time\"] = pd.to_datetime(df[\"time\"].to_numpy(), utc = True, unit = \"ms\")\n",
    "    df.index = df[\"time\"]\n",
    "    df.drop(columns = [\"time\"], inplace = True)\n",
    "    return df "
   ]
  },
  {
   "cell_type": "code",
   "execution_count": 6,
   "id": "94bc5653",
   "metadata": {},
   "outputs": [],
   "source": [
    "import pandas as pd"
   ]
  },
  {
   "cell_type": "code",
   "execution_count": 53,
   "id": "30ba40ba",
   "metadata": {},
   "outputs": [],
   "source": [
    "df = LoadDataset(\"H:\\BTCUSDT-trades-2021-07.zip\")\n",
    "df_to_keep = df.loc[df.isBestMatch == True]\n",
    "df_buy = df_to_keep.loc[df.isBuyerMaker == True]\n",
    "df_sell = df_to_keep.loc[df.isBuyerMaker == False]\n",
    "buy = df_buy.price.rename(\"buy\")\n",
    "sell = df_sell.price.rename(\"sell\")\n",
    "merged = pd.merge(buy,sell, left_index = True, right_index = True, how = \"inner\")\n",
    "mid = merged.mean(axis  = 1)"
   ]
  },
  {
   "cell_type": "code",
   "execution_count": 54,
   "id": "c4456e50",
   "metadata": {},
   "outputs": [
    {
     "data": {
      "text/plain": [
       "16631"
      ]
     },
     "execution_count": 54,
     "metadata": {},
     "output_type": "execute_result"
    }
   ],
   "source": [
    "mid.resample(\"1min\").last().isna().sum()"
   ]
  },
  {
   "cell_type": "code",
   "execution_count": 38,
   "id": "d008de04",
   "metadata": {},
   "outputs": [
    {
     "data": {
      "text/plain": [
       "11669457"
      ]
     },
     "execution_count": 38,
     "metadata": {},
     "output_type": "execute_result"
    }
   ],
   "source": [
    "len(sell)"
   ]
  },
  {
   "cell_type": "code",
   "execution_count": 39,
   "id": "11677b4d",
   "metadata": {},
   "outputs": [
    {
     "data": {
      "text/plain": [
       "9655418"
      ]
     },
     "execution_count": 39,
     "metadata": {},
     "output_type": "execute_result"
    }
   ],
   "source": [
    "len(buy)"
   ]
  },
  {
   "cell_type": "code",
   "execution_count": 40,
   "id": "da951454",
   "metadata": {},
   "outputs": [
    {
     "data": {
      "text/plain": [
       "1197725"
      ]
     },
     "execution_count": 40,
     "metadata": {},
     "output_type": "execute_result"
    }
   ],
   "source": [
    "len(merged)"
   ]
  },
  {
   "cell_type": "code",
   "execution_count": 42,
   "id": "5ffcd9f4",
   "metadata": {},
   "outputs": [
    {
     "data": {
      "text/plain": [
       "-10471732"
      ]
     },
     "execution_count": 42,
     "metadata": {},
     "output_type": "execute_result"
    }
   ],
   "source": [
    "len(merged)-len(sell)"
   ]
  },
  {
   "cell_type": "code",
   "execution_count": null,
   "id": "11a4ad76",
   "metadata": {},
   "outputs": [],
   "source": []
  }
 ],
 "metadata": {
  "kernelspec": {
   "display_name": "Python 3 (ipykernel)",
   "language": "python",
   "name": "python3"
  },
  "language_info": {
   "codemirror_mode": {
    "name": "ipython",
    "version": 3
   },
   "file_extension": ".py",
   "mimetype": "text/x-python",
   "name": "python",
   "nbconvert_exporter": "python",
   "pygments_lexer": "ipython3",
   "version": "3.9.7"
  }
 },
 "nbformat": 4,
 "nbformat_minor": 5
}
