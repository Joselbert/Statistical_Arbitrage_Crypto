{
 "cells": [
  {
   "cell_type": "code",
   "execution_count": 1,
   "id": "3f45e8ef",
   "metadata": {},
   "outputs": [],
   "source": [
    "from functions.UtilsRetrieveData import *"
   ]
  },
  {
   "cell_type": "code",
   "execution_count": 4,
   "id": "503f9950",
   "metadata": {},
   "outputs": [
    {
     "name": "stdout",
     "output_type": "stream",
     "text": [
      "100% [......................................................................] 269216294 / 269216294"
     ]
    },
    {
     "data": {
      "text/plain": [
       "'Completed'"
      ]
     },
     "execution_count": 4,
     "metadata": {},
     "output_type": "execute_result"
    }
   ],
   "source": [
    "name = \"LTCUSDT\"\n",
    "bounds = [\"2021-01\", \"2021-02\"]\n",
    "dates = create_listdates(bounds)\n",
    "downloadList(name, dates, n_job = 2, type_ = \"trades\")"
   ]
  },
  {
   "cell_type": "code",
   "execution_count": 3,
   "id": "3a8e6368",
   "metadata": {},
   "outputs": [
    {
     "name": "stdout",
     "output_type": "stream",
     "text": [
      "100% [..........................................................................] 1765545 / 1765545"
     ]
    },
    {
     "data": {
      "text/plain": [
       "'Completed'"
      ]
     },
     "execution_count": 3,
     "metadata": {},
     "output_type": "execute_result"
    }
   ],
   "source": [
    "name = \"BNBUSDT\"\n",
    "bounds = [\"2021-01\", \"2021-12\"]\n",
    "dates = create_listdates(bounds)\n",
    "downloadList(name, dates, n_job = 2)"
   ]
  },
  {
   "cell_type": "code",
   "execution_count": 4,
   "id": "94c67382",
   "metadata": {},
   "outputs": [
    {
     "name": "stdout",
     "output_type": "stream",
     "text": [
      "100% [..........................................................................] 1720156 / 1720156"
     ]
    },
    {
     "data": {
      "text/plain": [
       "'Completed'"
      ]
     },
     "execution_count": 4,
     "metadata": {},
     "output_type": "execute_result"
    }
   ],
   "source": [
    "name = \"XRPUSDT\"\n",
    "bounds = [\"2021-01\", \"2021-12\"]\n",
    "dates = create_listdates(bounds)\n",
    "downloadList(name, dates, n_job =  2)"
   ]
  },
  {
   "cell_type": "code",
   "execution_count": 5,
   "id": "87aba7c8",
   "metadata": {},
   "outputs": [
    {
     "name": "stdout",
     "output_type": "stream",
     "text": [
      "100% [..........................................................................] 2242006 / 2242006"
     ]
    },
    {
     "data": {
      "text/plain": [
       "'Completed'"
      ]
     },
     "execution_count": 5,
     "metadata": {},
     "output_type": "execute_result"
    }
   ],
   "source": [
    "name = \"BTCUSDT\"\n",
    "bounds = [\"2021-01\", \"2021-12\"]\n",
    "dates = create_listdates(bounds)\n",
    "downloadList(name, dates, n_job = 2)\n"
   ]
  },
  {
   "cell_type": "code",
   "execution_count": 6,
   "id": "b11e48de",
   "metadata": {},
   "outputs": [
    {
     "name": "stdout",
     "output_type": "stream",
     "text": [
      "100% [..........................................................................] 1641852 / 1641852"
     ]
    },
    {
     "data": {
      "text/plain": [
       "'Completed'"
      ]
     },
     "execution_count": 6,
     "metadata": {},
     "output_type": "execute_result"
    }
   ],
   "source": [
    "name = \"ADAUSDT\"\n",
    "bounds = [\"2021-01\", \"2021-12\"]\n",
    "dates = create_listdates(bounds)\n",
    "downloadList(name, dates, n_job = 2)"
   ]
  },
  {
   "cell_type": "code",
   "execution_count": 9,
   "id": "1033ae4e",
   "metadata": {},
   "outputs": [
    {
     "name": "stdout",
     "output_type": "stream",
     "text": [
      "100% [..........................................................................] 1793674 / 1793674"
     ]
    },
    {
     "data": {
      "text/plain": [
       "'Completed'"
      ]
     },
     "execution_count": 9,
     "metadata": {},
     "output_type": "execute_result"
    }
   ],
   "source": [
    "name = \"SOLUSDT\"\n",
    "bounds = [\"2021-01\", \"2021-12\"]\n",
    "dates = create_listdates(bounds)\n",
    "downloadList(name, dates, n_job = 6)"
   ]
  },
  {
   "cell_type": "code",
   "execution_count": 10,
   "id": "b578d71f",
   "metadata": {},
   "outputs": [
    {
     "name": "stdout",
     "output_type": "stream",
     "text": [
      "100% [..........................................................................] 1612764 / 1612764"
     ]
    },
    {
     "data": {
      "text/plain": [
       "'Completed'"
      ]
     },
     "execution_count": 10,
     "metadata": {},
     "output_type": "execute_result"
    }
   ],
   "source": [
    "name = \"DOGEUSDT\"\n",
    "bounds = [\"2021-01\", \"2021-12\"]\n",
    "dates = create_listdates(bounds)\n",
    "downloadList(name, dates, n_job = 4)"
   ]
  },
  {
   "cell_type": "code",
   "execution_count": 6,
   "id": "bfcdad06",
   "metadata": {},
   "outputs": [
    {
     "name": "stdout",
     "output_type": "stream",
     "text": [
      "100% [........................................................................] 14424025 / 14424025"
     ]
    }
   ],
   "source": [
    "#retrieve December \n",
    "#done this both for klines and also trades data \n",
    "names_old = [\"ETHUSDT\", \"BNBUSDT\", \"XRPUSDT\", \"BTCUSDT\", \"ADAUSDT\", \"SOLUSDT\", \"DOGEUSDT\"]\n",
    "for name in names_old:\n",
    "    disk = \"H:\"\n",
    "    dates = [\"2020-12\"]\n",
    "    downloadList(name, dates, folder = disk, n_job = 6, type_ = \"trades\")"
   ]
  },
  {
   "cell_type": "code",
   "execution_count": 8,
   "id": "47165f6b",
   "metadata": {},
   "outputs": [
    {
     "name": "stdout",
     "output_type": "stream",
     "text": [
      "\n",
      " TRXUSDT \n",
      "\n",
      "100% [......................................................................] 386040052 / 386040052\n",
      " BUSDUSDT \n",
      "\n",
      "100% [......................................................................] 220420046 / 220420046\n",
      " MATICUSDT \n",
      "\n",
      "100% [......................................................................] 784480788 / 784480788\n",
      " LTCUSDT \n",
      "\n",
      "100% [......................................................................] 145180987 / 145180987\n",
      " DOTUSDT \n",
      "\n",
      "100% [......................................................................] 294439456 / 294439456\n",
      " USDCUSDT \n",
      "\n",
      "100% [........................................................................] 15283406 / 15283406"
     ]
    }
   ],
   "source": [
    "names = [\"TRXUSDT\", \"BUSDUSDT\", \"MATICUSDT\", \"LTCUSDT\", \"DOTUSDT\", \"USDCUSDT\"]\n",
    "bounds = [\"2020-12\", \"2021-12\"]\n",
    "disk = \"H:\"\n",
    "dates = create_listdates(bounds)\n",
    "for name in names:\n",
    "    print(\"\\n\",name, \"\\n\")\n",
    "    downloadList(name, dates, folder = disk, n_job = 6, type_ = \"trades\")"
   ]
  },
  {
   "cell_type": "code",
   "execution_count": 12,
   "id": "e6f08199",
   "metadata": {},
   "outputs": [],
   "source": [
    "from functions.MarginFee import getDictionaryMarginRate\n",
    "import joblib \n",
    "\n",
    "names = [\"TRXUSDT\", \"BUSDUSDT\", \"MATICUSDT\", \"LTCUSDT\", \"DOTUSDT\", \"USDCUSDT\"]\n",
    "names_old = [\"ETHUSDT\", \"BNBUSDT\", \"XRPUSDT\", \"BTCUSDT\", \"ADAUSDT\", \"SOLUSDT\", \"DOGEUSDT\"]\n",
    "all_names = names_old+names\n",
    "all_names_clean = [j.split(\"USDT\")[0] for j in all_names]\n",
    "dict_to_save = getDictionaryMarginRate(all_names_clean)\n"
   ]
  },
  {
   "cell_type": "code",
   "execution_count": 9,
   "id": "8dd2c0b1",
   "metadata": {},
   "outputs": [
    {
     "data": {
      "text/plain": [
       "['NamesCoinsAvailable.joblib']"
      ]
     },
     "execution_count": 9,
     "metadata": {},
     "output_type": "execute_result"
    }
   ],
   "source": [
    "joblib.dump(dict_to_save, \"MarginFeeCoins_Dictionary.joblib\")\n",
    "joblib.dump(all_names_clean, \"NamesCoinsAvailable.joblib\")"
   ]
  },
  {
   "cell_type": "code",
   "execution_count": 17,
   "id": "6810d1f3",
   "metadata": {},
   "outputs": [],
   "source": [
    "d = joblib.load(\"MarginFeeCoins_Dictionary.joblib\")\n",
    "list_ = joblib.load(\"NamesCoinsAvailable.joblib\")"
   ]
  },
  {
   "cell_type": "code",
   "execution_count": 18,
   "id": "82381513",
   "metadata": {},
   "outputs": [
    {
     "data": {
      "text/plain": [
       "{'ETH': 5.699e-05,\n",
       " 'BNB': 0.003,\n",
       " 'XRP': 0.00017,\n",
       " 'BTC': 5.699e-05,\n",
       " 'ADA': 0.000245,\n",
       " 'SOL': 0.00109589,\n",
       " 'DOGE': 0.00023199999999999997,\n",
       " 'TRX': 0.001206,\n",
       " 'BUSD': 0.00011096,\n",
       " 'MATIC': 0.0001921,\n",
       " 'LTC': 0.0001452,\n",
       " 'DOT': 0.0003318,\n",
       " 'USDC': 0.0}"
      ]
     },
     "execution_count": 18,
     "metadata": {},
     "output_type": "execute_result"
    }
   ],
   "source": [
    "d"
   ]
  },
  {
   "cell_type": "code",
   "execution_count": 19,
   "id": "ab625789",
   "metadata": {},
   "outputs": [
    {
     "data": {
      "text/plain": [
       "['ETH',\n",
       " 'BNB',\n",
       " 'XRP',\n",
       " 'BTC',\n",
       " 'ADA',\n",
       " 'SOL',\n",
       " 'DOGE',\n",
       " 'TRX',\n",
       " 'BUSD',\n",
       " 'MATIC',\n",
       " 'LTC',\n",
       " 'DOT',\n",
       " 'USDC']"
      ]
     },
     "execution_count": 19,
     "metadata": {},
     "output_type": "execute_result"
    }
   ],
   "source": [
    "list_"
   ]
  },
  {
   "cell_type": "code",
   "execution_count": null,
   "id": "3d714638",
   "metadata": {},
   "outputs": [],
   "source": []
  }
 ],
 "metadata": {
  "kernelspec": {
   "display_name": "Python 3 (ipykernel)",
   "language": "python",
   "name": "python3"
  },
  "language_info": {
   "codemirror_mode": {
    "name": "ipython",
    "version": 3
   },
   "file_extension": ".py",
   "mimetype": "text/x-python",
   "name": "python",
   "nbconvert_exporter": "python",
   "pygments_lexer": "ipython3",
   "version": "3.9.7"
  }
 },
 "nbformat": 4,
 "nbformat_minor": 5
}
