{
 "cells": [
  {
   "cell_type": "code",
   "execution_count": 1,
   "id": "3f45e8ef",
   "metadata": {},
   "outputs": [],
   "source": [
    "from functions.UtilsRetrieveData import *\n",
    "from functions.UtilsGoogleDrive import *\n",
    "\n",
    "idx_klines = \"1lTqV4UgHsMi7s6mJqDhA1RF5gQf-AG13\"\n",
    "idx_trades = \"1Gq8VMfWhCwwmGfq8rkxWV1jE-0tjA_jq\""
   ]
  },
  {
   "cell_type": "code",
   "execution_count": 5,
   "id": "bfcdad06",
   "metadata": {},
   "outputs": [
    {
     "name": "stdout",
     "output_type": "stream",
     "text": [
      "100% [..........................................................................] 1612764 / 1612764"
     ]
    }
   ],
   "source": [
    "names_old = [\"ETHUSDT\", \"BNBUSDT\", \"XRPUSDT\", \"BTCUSDT\", \"ADAUSDT\", \"SOLUSDT\", \"DOGEUSDT\"]\n",
    "\n",
    "for name in names_old:\n",
    "    bounds = [\"2020-12\", \"2021-12\"]\n",
    "    dates = create_listdates(bounds)\n",
    "    paths = downloadList(name, dates, n_job = 2, type_ = \"klines\", return_path = True)\n",
    "\n",
    "    id_folder = CreateFolder(folder_id = idx_klines, folderName = name, return_id = True)\n",
    "    UploadFileListData(files = paths, folder_id = id_folder)\n"
   ]
  },
  {
   "cell_type": "code",
   "execution_count": 6,
   "id": "47165f6b",
   "metadata": {},
   "outputs": [
    {
     "name": "stdout",
     "output_type": "stream",
     "text": [
      "100% [..........................................................................] 1336794 / 1336794"
     ]
    }
   ],
   "source": [
    "names_new = [\"TRXUSDT\", \"BUSDUSDT\", \"MATICUSDT\", \"LTCUSDT\", \"DOTUSDT\", \"USDCUSDT\"]\n",
    "\n",
    "for name in names_new:\n",
    "    bounds = [\"2020-12\", \"2021-12\"]\n",
    "    dates = create_listdates(bounds)\n",
    "    paths = downloadList(name, dates, n_job = 2, type_ = \"klines\", return_path = True)\n",
    "\n",
    "    id_folder = CreateFolder(folder_id = idx_klines, folderName = name, return_id = True)\n",
    "    UploadFileListData(files = paths, folder_id = id_folder)"
   ]
  },
  {
   "cell_type": "code",
   "execution_count": 12,
   "id": "e6f08199",
   "metadata": {},
   "outputs": [],
   "source": [
    "from functions.MarginFee import getDictionaryMarginRate\n",
    "import joblib \n",
    "\n",
    "all_names = names_old+names\n",
    "all_names_clean = [j.split(\"USDT\")[0] for j in all_names]\n",
    "dict_to_save = getDictionaryMarginRate(all_names_clean)\n"
   ]
  },
  {
   "cell_type": "code",
   "execution_count": 9,
   "id": "8dd2c0b1",
   "metadata": {},
   "outputs": [
    {
     "data": {
      "text/plain": [
       "['NamesCoinsAvailable.joblib']"
      ]
     },
     "execution_count": 9,
     "metadata": {},
     "output_type": "execute_result"
    }
   ],
   "source": [
    "joblib.dump(dict_to_save, \"MarginFeeCoins_Dictionary.joblib\")\n",
    "joblib.dump(all_names_clean, \"NamesCoinsAvailable.joblib\")"
   ]
  },
  {
   "cell_type": "code",
   "execution_count": 17,
   "id": "6810d1f3",
   "metadata": {},
   "outputs": [],
   "source": [
    "d = joblib.load(\"MarginFeeCoins_Dictionary.joblib\")\n",
    "list_ = joblib.load(\"NamesCoinsAvailable.joblib\")"
   ]
  },
  {
   "cell_type": "code",
   "execution_count": null,
   "id": "3d714638",
   "metadata": {},
   "outputs": [],
   "source": []
  }
 ],
 "metadata": {
  "kernelspec": {
   "display_name": "Python 3 (ipykernel)",
   "language": "python",
   "name": "python3"
  },
  "language_info": {
   "codemirror_mode": {
    "name": "ipython",
    "version": 3
   },
   "file_extension": ".py",
   "mimetype": "text/x-python",
   "name": "python",
   "nbconvert_exporter": "python",
   "pygments_lexer": "ipython3",
   "version": "3.9.7"
  }
 },
 "nbformat": 4,
 "nbformat_minor": 5
}
