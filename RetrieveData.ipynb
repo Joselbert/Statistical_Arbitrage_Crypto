{
 "cells": [
  {
   "cell_type": "code",
   "execution_count": 1,
   "id": "3f45e8ef",
   "metadata": {},
   "outputs": [],
   "source": [
    "from functions.UtilsRetrieveData import *"
   ]
  },
  {
   "cell_type": "code",
   "execution_count": null,
   "id": "503f9950",
   "metadata": {},
   "outputs": [],
   "source": [
    "name = \"ETHUSDT\"\n",
    "bounds = [\"2021-01\", \"2021-12\"]\n",
    "dates = create_listdates(bounds)\n",
    "downloadList(name, dates, n_job = 2)"
   ]
  },
  {
   "cell_type": "code",
   "execution_count": null,
   "id": "3a8e6368",
   "metadata": {},
   "outputs": [],
   "source": [
    "name = \"BNBUSDT\"\n",
    "bounds = [\"2021-01\", \"2021-12\"]\n",
    "dates = create_listdates(bounds)\n",
    "downloadList(name, dates, n_job = 2)"
   ]
  },
  {
   "cell_type": "code",
   "execution_count": null,
   "id": "94c67382",
   "metadata": {},
   "outputs": [],
   "source": [
    "name = \"XRPUSDT\"\n",
    "bounds = [\"2021-01\", \"2021-12\"]\n",
    "dates = create_listdates(bounds)\n",
    "downloadList(name, dates, n_job =  2)"
   ]
  },
  {
   "cell_type": "code",
   "execution_count": null,
   "id": "87aba7c8",
   "metadata": {},
   "outputs": [],
   "source": [
    "name = \"BTCUSDT\"\n",
    "bounds = [\"2021-01\", \"2021-12\"]\n",
    "dates = create_listdates(bounds)\n",
    "downloadList(name, dates, n_job = 2)\n"
   ]
  },
  {
   "cell_type": "code",
   "execution_count": null,
   "id": "b11e48de",
   "metadata": {},
   "outputs": [
    {
     "name": "stdout",
     "output_type": "stream",
     "text": [
      "  6% [....                                                                  ]  29466624 / 431517231"
     ]
    }
   ],
   "source": [
    "name = \"ADAUSDT\"\n",
    "bounds = [\"2021-01\", \"2021-02\"]\n",
    "dates = create_listdates(bounds)\n",
    "downloadList(name, dates, n_job = 2)"
   ]
  },
  {
   "cell_type": "code",
   "execution_count": null,
   "id": "4d7aa67a",
   "metadata": {},
   "outputs": [
    {
     "name": "stdout",
     "output_type": "stream",
     "text": [
      "  9% [......                                                                  ]  1998848 / 21971043"
     ]
    }
   ],
   "source": [
    "name = \"ONGUSDT\"\n",
    "bounds = [\"2021-01\", \"2021-12\"]\n",
    "dates = create_listdates(bounds)\n",
    "downloadList(name, dates, n_job = 6)"
   ]
  },
  {
   "cell_type": "code",
   "execution_count": 2,
   "id": "4b26f315",
   "metadata": {},
   "outputs": [
    {
     "name": "stdout",
     "output_type": "stream",
     "text": [
      "100% [..........................................................................] 1240195 / 1240195"
     ]
    },
    {
     "data": {
      "text/plain": [
       "'Completed'"
      ]
     },
     "execution_count": 2,
     "metadata": {},
     "output_type": "execute_result"
    }
   ],
   "source": [
    "name = \"STPTUSDT\"\n",
    "bounds = [\"2021-01\", \"2021-02\"]\n",
    "dates = create_listdates(bounds)\n",
    "downloadList(name, dates, n_job = 6)"
   ]
  },
  {
   "cell_type": "code",
   "execution_count": 7,
   "id": "1033ae4e",
   "metadata": {},
   "outputs": [
    {
     "name": "stdout",
     "output_type": "stream",
     "text": [
      "100% [......................................................................] 569241956 / 569241956"
     ]
    },
    {
     "data": {
      "text/plain": [
       "'Completed'"
      ]
     },
     "execution_count": 7,
     "metadata": {},
     "output_type": "execute_result"
    }
   ],
   "source": [
    "name = \"SOLUSDT\"\n",
    "bounds = [\"2021-01\", \"2021-12\"]\n",
    "dates = create_listdates(bounds)\n",
    "downloadList(name, dates, n_job = 6)"
   ]
  },
  {
   "cell_type": "code",
   "execution_count": 2,
   "id": "b578d71f",
   "metadata": {},
   "outputs": [
    {
     "name": "stdout",
     "output_type": "stream",
     "text": [
      "100% [......................................................................] 507529958 / 507529958"
     ]
    },
    {
     "data": {
      "text/plain": [
       "'Completed'"
      ]
     },
     "execution_count": 2,
     "metadata": {},
     "output_type": "execute_result"
    }
   ],
   "source": [
    "name = \"DOGEUSDT\"\n",
    "bounds = [\"2021-01\", \"2021-12\"]\n",
    "dates = create_listdates(bounds)\n",
    "downloadList(name, dates, n_job = 4)"
   ]
  },
  {
   "cell_type": "code",
   "execution_count": null,
   "id": "8f9f221e",
   "metadata": {},
   "outputs": [],
   "source": []
  }
 ],
 "metadata": {
  "kernelspec": {
   "display_name": "Python 3 (ipykernel)",
   "language": "python",
   "name": "python3"
  },
  "language_info": {
   "codemirror_mode": {
    "name": "ipython",
    "version": 3
   },
   "file_extension": ".py",
   "mimetype": "text/x-python",
   "name": "python",
   "nbconvert_exporter": "python",
   "pygments_lexer": "ipython3",
   "version": "3.9.7"
  }
 },
 "nbformat": 4,
 "nbformat_minor": 5
}
