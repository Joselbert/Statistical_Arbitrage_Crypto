{
 "cells": [
  {
   "cell_type": "code",
   "execution_count": 7,
   "id": "6eb1998e",
   "metadata": {},
   "outputs": [],
   "source": [
    "import joblib \n",
    "import os\n",
    "os.makedirs(\"config\", exist_ok=True)"
   ]
  },
  {
   "cell_type": "code",
   "execution_count": 20,
   "id": "71b9d638",
   "metadata": {},
   "outputs": [
    {
     "data": {
      "text/plain": [
       "{'idx': '1Vg9w6RpPjukasvRqxM4cqPxabDi9MeyS',\n",
       " 'drive': True,\n",
       " 'tresh': [{'minutes': 30},\n",
       "  {'hours': 1},\n",
       "  {'hours': 2},\n",
       "  {'hours': 4},\n",
       "  {'hours': 6},\n",
       "  {'hours': 12}],\n",
       " 'calibration_window': {'hours': 12},\n",
       " 'stat_test': 'adfuller',\n",
       " 'frequency': {'minutes': 1},\n",
       " 'p_values': [0.1, 0.05, 0.01, 0.005],\n",
       " 'stop_loss': 0.2}"
      ]
     },
     "execution_count": 20,
     "metadata": {},
     "output_type": "execute_result"
    }
   ],
   "source": [
    "\n",
    "tr_w6 = {\"hours\": 12}\n",
    "tr_w5 = {\"hours\": 6}\n",
    "tr_w4 = {\"hours\": 4}\n",
    "tr_w3 = {\"hours\": 2}\n",
    "tr_w2 = {\"hours\": 1}\n",
    "tr_w1 = {\"minutes\": 30}\n",
    "tresh = [tr_w1, tr_w2, tr_w3, tr_w4, tr_w5, tr_w6]\n",
    "p_values = [0.1,0.05,0.01,0.005]\n",
    "\n",
    "config = dict()\n",
    "config[\"idx\"] = \"1Vg9w6RpPjukasvRqxM4cqPxabDi9MeyS\"\n",
    "config[\"drive\"] = True\n",
    "config[\"tresh\"] = tresh\n",
    "config[\"calibration_window\"] = {\"hours\": 12}\n",
    "config[\"stat_test\"] = \"adfuller\"\n",
    "config[\"frequency\"] = {\"minutes\": 1}\n",
    "config[\"p_values\"] = p_values\n",
    "config[\"stop_loss\"] = 0.2\n",
    "\n",
    "\n",
    "joblib.dump(config, \"config/config.joblib\")\n",
    "joblib.load(\"config/config.joblib\")"
   ]
  },
  {
   "cell_type": "code",
   "execution_count": 22,
   "id": "d47fc412",
   "metadata": {},
   "outputs": [
    {
     "data": {
      "text/plain": [
       "['config/joshua_pairs.joblib']"
      ]
     },
     "execution_count": 22,
     "metadata": {},
     "output_type": "execute_result"
    }
   ],
   "source": [
    "from itertools import combinations\n",
    "\n",
    "names_old = [\n",
    "    \"ETHUSDT\",\n",
    "    \"BNBUSDT\",\n",
    "    \"XRPUSDT\",\n",
    "    \"BTCUSDT\",\n",
    "    \"ADAUSDT\",\n",
    "    \"SOLUSDT\",\n",
    "    \"DOGEUSDT\",\n",
    "]\n",
    "\n",
    "names_old_ = [j.split(\"USDT\")[0] for j in names_old]\n",
    "\n",
    "names_new = [\"TRXUSDT\", \"BUSDUSDT\", \"MATICUSDT\", \"LTCUSDT\", \"DOTUSDT\", \"USDCUSDT\"]\n",
    "names_new_ = [j.split(\"USDT\")[0] for j in names_new]\n",
    "\n",
    "old_pairs = [comb for comb in combinations(names_old_, r=2)]\n",
    "\n",
    "joshua_pairs = old_pairs[0:10]\n",
    "giovanni_pairs = old_pairs[10:]\n",
    "\n",
    "joblib.dump(giovanni_pairs, \"config/giovanni_pairs.joblib\")\n",
    "joblib.dump(joshua_pairs, \"config/joshua_pairs.joblib\")\n",
    "\n"
   ]
  },
  {
   "cell_type": "code",
   "execution_count": 23,
   "id": "97de7393",
   "metadata": {},
   "outputs": [],
   "source": [
    "import json"
   ]
  },
  {
   "cell_type": "code",
   "execution_count": null,
   "id": "406dcc5f",
   "metadata": {},
   "outputs": [],
   "source": []
  }
 ],
 "metadata": {
  "kernelspec": {
   "display_name": "Python 3 (ipykernel)",
   "language": "python",
   "name": "python3"
  },
  "language_info": {
   "codemirror_mode": {
    "name": "ipython",
    "version": 3
   },
   "file_extension": ".py",
   "mimetype": "text/x-python",
   "name": "python",
   "nbconvert_exporter": "python",
   "pygments_lexer": "ipython3",
   "version": "3.9.7"
  }
 },
 "nbformat": 4,
 "nbformat_minor": 5
}
