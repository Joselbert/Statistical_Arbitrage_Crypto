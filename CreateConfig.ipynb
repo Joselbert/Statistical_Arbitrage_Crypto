{
 "cells": [
  {
   "cell_type": "code",
   "execution_count": 7,
   "id": "cbb830c6",
   "metadata": {},
   "outputs": [],
   "source": [
    "import joblib \n",
    "import os\n",
    "import json\n",
    "os.makedirs(\"config\", exist_ok=True)"
   ]
  },
  {
   "cell_type": "code",
   "execution_count": 20,
   "id": "1d148292",
   "metadata": {},
   "outputs": [],
   "source": [
    "\n",
    "tr_w6 = {\"hours\": 12}\n",
    "tr_w5 = {\"hours\": 6}\n",
    "tr_w4 = {\"hours\": 4}\n",
    "tr_w3 = {\"hours\": 2}\n",
    "tr_w2 = {\"hours\": 1}\n",
    "tr_w1 = {\"minutes\": 30}\n",
    "tresh = [tr_w1, tr_w2, tr_w3, tr_w4, tr_w5, tr_w6]\n",
    "p_values = [0.1,0.05,0.01,0.005]\n",
    "\n",
    "config = dict()\n",
    "config[\"idx\"] = \"1Vg9w6RpPjukasvRqxM4cqPxabDi9MeyS\"\n",
    "config[\"drive\"] = True\n",
    "config[\"tresh\"] = tresh\n",
    "config[\"calibration_window\"] = {\"hours\": 12}\n",
    "config[\"stat_test\"] = \"adfuller\"\n",
    "config[\"frequency\"] = {\"minutes\": 1}\n",
    "config[\"p_values\"] = p_values\n",
    "config[\"stop_loss\"] = 0.2\n",
    "\n",
    "\n",
    "with open(\"config/config.json\", \"w\") as outfile:\n",
    "    json.dump(config, outfile, indent = 4)\n"
   ]
  },
  {
   "cell_type": "code",
   "execution_count": 21,
   "id": "8c6a633f",
   "metadata": {},
   "outputs": [
    {
     "data": {
      "text/plain": [
       "{'idx': '1Vg9w6RpPjukasvRqxM4cqPxabDi9MeyS',\n",
       " 'drive': True,\n",
       " 'tresh': [{'minutes': 30},\n",
       "  {'hours': 1},\n",
       "  {'hours': 2},\n",
       "  {'hours': 4},\n",
       "  {'hours': 6},\n",
       "  {'hours': 12}],\n",
       " 'calibration_window': {'hours': 12},\n",
       " 'stat_test': 'adfuller',\n",
       " 'frequency': {'minutes': 1},\n",
       " 'p_values': [0.1, 0.05, 0.01, 0.005],\n",
       " 'stop_loss': 0.2}"
      ]
     },
     "execution_count": 21,
     "metadata": {},
     "output_type": "execute_result"
    }
   ],
   "source": [
    "with open(\"config/config.json\") as json_file:\n",
    "        config = json.load(json_file)\n",
    "config"
   ]
  },
  {
   "cell_type": "code",
   "execution_count": 9,
   "id": "79ebf80f",
   "metadata": {},
   "outputs": [],
   "source": [
    "import joblib"
   ]
  },
  {
   "cell_type": "code",
   "execution_count": 22,
   "id": "af9dfdd8",
   "metadata": {},
   "outputs": [
    {
     "data": {
      "text/plain": [
       "['config/joshua_pairs.joblib']"
      ]
     },
     "execution_count": 22,
     "metadata": {},
     "output_type": "execute_result"
    }
   ],
   "source": [
    "from itertools import combinations\n",
    "\n",
    "names_old = [\n",
    "    \"ETHUSDT\",\n",
    "    \"BNBUSDT\",\n",
    "    \"XRPUSDT\",\n",
    "    \"BTCUSDT\",\n",
    "    \"ADAUSDT\",\n",
    "    \"SOLUSDT\",\n",
    "    \"DOGEUSDT\",\n",
    "]\n",
    "\n",
    "names_old_ = [j.split(\"USDT\")[0] for j in names_old]\n",
    "\n",
    "names_new = [\"TRXUSDT\", \"BUSDUSDT\", \"MATICUSDT\", \"LTCUSDT\", \"DOTUSDT\", \"USDCUSDT\"]\n",
    "names_new_ = [j.split(\"USDT\")[0] for j in names_new]\n",
    "\n",
    "old_pairs = [comb for comb in combinations(names_old_, r=2)]\n",
    "\n",
    "joshua_pairs = old_pairs[0:10]\n",
    "giovanni_pairs = old_pairs[10:]\n",
    "\n",
    "joblib.dump(giovanni_pairs, \"config/giovanni_pairs.joblib\")\n",
    "joblib.dump(joshua_pairs, \"config/joshua_pairs.joblib\")\n",
    "\n"
   ]
  },
  {
   "cell_type": "code",
   "execution_count": 13,
   "id": "ef4ed898",
   "metadata": {},
   "outputs": [],
   "source": [
    "\"\"\"\n",
    "creation of configuration for the main file \n",
    "\"\"\"\n",
    "import json \n",
    "\n",
    "\n",
    "Mconfig = {}\n",
    "Mconfig[\"toy\"] = True   #complete or toy\n",
    "Mconfig[\"drive\"] = False\n",
    "Mconfig[\"n_job\"] = 4\n",
    "Mconfig[\"save_dataframe\"] = True\n",
    "Mconfig[\"frequency\"] = \"1m\" #possible values are: 12h, 15m, 1d, 1h, 1m, 1mo, 1s, 1w, 2h, 30m, 3d, 3m, 4h, 5m, 6h, 8h\n",
    "Mconfig[\"output_folder\"] = \"C:/Users/giova/OneDrive/Desktop/testFolder\"\n",
    "Mconfig[\"list_assets_path\"] = \"config/NamesCoinsAvailable.joblib\"\n",
    "Mconfig[\"dates_interval\"] = (\"2020-12\", \"2021-01\")\n",
    "Mconfig[\"idx_klines\"] = \"1lTqV4UgHsMi7s6mJqDhA1RF5gQf-AG13\"\n",
    "\n",
    "# Serializing json  \n",
    "\n",
    "with open(\"config/Mconfig.json\", \"w\") as outfile:\n",
    "    json.dump(Mconfig, outfile, indent = 4)\n",
    "\n"
   ]
  },
  {
   "cell_type": "code",
   "execution_count": null,
   "id": "90842b18",
   "metadata": {},
   "outputs": [],
   "source": []
  }
 ],
 "metadata": {
  "kernelspec": {
   "display_name": "Python 3 (ipykernel)",
   "language": "python",
   "name": "python3"
  },
  "language_info": {
   "codemirror_mode": {
    "name": "ipython",
    "version": 3
   },
   "file_extension": ".py",
   "mimetype": "text/x-python",
   "name": "python",
   "nbconvert_exporter": "python",
   "pygments_lexer": "ipython3",
   "version": "3.9.7"
  }
 },
 "nbformat": 4,
 "nbformat_minor": 5
}
