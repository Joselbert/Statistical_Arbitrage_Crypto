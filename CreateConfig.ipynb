{
 "cells": [
  {
   "cell_type": "code",
   "execution_count": 7,
   "id": "cbcecefa",
   "metadata": {},
   "outputs": [],
   "source": [
    "import joblib \n",
    "import os\n",
    "os.makedirs(\"config\", exist_ok=True)"
   ]
  },
  {
   "cell_type": "code",
   "execution_count": 20,
   "id": "bcbd496e",
   "metadata": {},
   "outputs": [
    {
     "data": {
      "text/plain": [
       "{'idx': '1Vg9w6RpPjukasvRqxM4cqPxabDi9MeyS',\n",
       " 'drive': True,\n",
       " 'tresh': [{'minutes': 30},\n",
       "  {'hours': 1},\n",
       "  {'hours': 2},\n",
       "  {'hours': 4},\n",
       "  {'hours': 6},\n",
       "  {'hours': 12}],\n",
       " 'calibration_window': {'hours': 12},\n",
       " 'stat_test': 'adfuller',\n",
       " 'frequency': {'minutes': 1},\n",
       " 'p_values': [0.1, 0.05, 0.01, 0.005],\n",
       " 'stop_loss': 0.2}"
      ]
     },
     "execution_count": 20,
     "metadata": {},
     "output_type": "execute_result"
    }
   ],
   "source": [
    "\n",
    "tr_w6 = {\"hours\": 12}\n",
    "tr_w5 = {\"hours\": 6}\n",
    "tr_w4 = {\"hours\": 4}\n",
    "tr_w3 = {\"hours\": 2}\n",
    "tr_w2 = {\"hours\": 1}\n",
    "tr_w1 = {\"minutes\": 30}\n",
    "tresh = [tr_w1, tr_w2, tr_w3, tr_w4, tr_w5, tr_w6]\n",
    "p_values = [0.1,0.05,0.01,0.005]\n",
    "\n",
    "config = dict()\n",
    "config[\"idx\"] = \"1Vg9w6RpPjukasvRqxM4cqPxabDi9MeyS\"\n",
    "config[\"drive\"] = True\n",
    "config[\"tresh\"] = tresh\n",
    "config[\"calibration_window\"] = {\"hours\": 12}\n",
    "config[\"stat_test\"] = \"adfuller\"\n",
    "config[\"frequency\"] = {\"minutes\": 1}\n",
    "config[\"p_values\"] = p_values\n",
    "config[\"stop_loss\"] = 0.2\n",
    "\n",
    "\n",
    "joblib.dump(config, \"config/config.joblib\")\n",
    "joblib.load(\"config/config.joblib\")"
   ]
  },
  {
   "cell_type": "code",
   "execution_count": 21,
   "id": "1fc9906f",
   "metadata": {},
   "outputs": [
    {
     "ename": "NameError",
     "evalue": "name 'names_old_' is not defined",
     "output_type": "error",
     "traceback": [
      "\u001b[1;31m---------------------------------------------------------------------------\u001b[0m",
      "\u001b[1;31mNameError\u001b[0m                                 Traceback (most recent call last)",
      "\u001b[1;32m~\\AppData\\Local\\Temp\\ipykernel_14344\\2972024030.py\u001b[0m in \u001b[0;36m<cell line: 18>\u001b[1;34m()\u001b[0m\n\u001b[0;32m     16\u001b[0m \u001b[0mname_new_\u001b[0m \u001b[1;33m=\u001b[0m \u001b[1;33m[\u001b[0m\u001b[0mj\u001b[0m\u001b[1;33m.\u001b[0m\u001b[0msplit\u001b[0m\u001b[1;33m(\u001b[0m\u001b[1;34m\"USDT\"\u001b[0m\u001b[1;33m)\u001b[0m\u001b[1;33m[\u001b[0m\u001b[1;36m0\u001b[0m\u001b[1;33m]\u001b[0m \u001b[1;32mfor\u001b[0m \u001b[0mj\u001b[0m \u001b[1;32min\u001b[0m \u001b[0mnames_new\u001b[0m\u001b[1;33m]\u001b[0m\u001b[1;33m\u001b[0m\u001b[1;33m\u001b[0m\u001b[0m\n\u001b[0;32m     17\u001b[0m \u001b[1;33m\u001b[0m\u001b[0m\n\u001b[1;32m---> 18\u001b[1;33m \u001b[0mold_pairs\u001b[0m \u001b[1;33m=\u001b[0m \u001b[1;33m[\u001b[0m\u001b[0mcomb\u001b[0m \u001b[1;32mfor\u001b[0m \u001b[0mcomb\u001b[0m \u001b[1;32min\u001b[0m \u001b[0mcombinations\u001b[0m\u001b[1;33m(\u001b[0m\u001b[0mnames_old_\u001b[0m\u001b[1;33m,\u001b[0m \u001b[0mr\u001b[0m\u001b[1;33m=\u001b[0m\u001b[1;36m2\u001b[0m\u001b[1;33m)\u001b[0m\u001b[1;33m]\u001b[0m\u001b[1;33m\u001b[0m\u001b[1;33m\u001b[0m\u001b[0m\n\u001b[0m\u001b[0;32m     19\u001b[0m \u001b[1;33m\u001b[0m\u001b[0m\n\u001b[0;32m     20\u001b[0m \u001b[0mjoshua_pairs\u001b[0m \u001b[1;33m=\u001b[0m \u001b[0mold_pairs\u001b[0m\u001b[1;33m[\u001b[0m\u001b[1;36m0\u001b[0m\u001b[1;33m:\u001b[0m\u001b[1;36m10\u001b[0m\u001b[1;33m]\u001b[0m\u001b[1;33m\u001b[0m\u001b[1;33m\u001b[0m\u001b[0m\n",
      "\u001b[1;31mNameError\u001b[0m: name 'names_old_' is not defined"
     ]
    }
   ],
   "source": [
    "from itertools import combinations\n",
    "\n",
    "names_old = [\n",
    "    \"ETHUSDT\",\n",
    "    \"BNBUSDT\",\n",
    "    \"XRPUSDT\",\n",
    "    \"BTCUSDT\",\n",
    "    \"ADAUSDT\",\n",
    "    \"SOLUSDT\",\n",
    "    \"DOGEUSDT\",\n",
    "]\n",
    "\n",
    "names_old_ = [j.split(\"USDT\")[0] for j in names_old]\n",
    "\n",
    "names_new = [\"TRXUSDT\", \"BUSDUSDT\", \"MATICUSDT\", \"LTCUSDT\", \"DOTUSDT\", \"USDCUSDT\"]\n",
    "name_new_ = [j.split(\"USDT\")[0] for j in names_new]\n",
    "\n",
    "old_pairs = [comb for comb in combinations(names_old_, r=2)]\n",
    "\n",
    "joshua_pairs = old_pairs[0:10]\n",
    "giovanni_pairs = old_pairs[10:]\n",
    "\n",
    "joblib.dump(giovanni_pairs, \"config/giovanni_pairs.joblib\")\n",
    "joblib.dump(joshua_pairs, \"config/joshua_pairs.joblib\")\n",
    "\n"
   ]
  },
  {
   "cell_type": "code",
   "execution_count": null,
   "id": "b16ad505",
   "metadata": {},
   "outputs": [],
   "source": []
  }
 ],
 "metadata": {
  "kernelspec": {
   "display_name": "Python 3 (ipykernel)",
   "language": "python",
   "name": "python3"
  },
  "language_info": {
   "codemirror_mode": {
    "name": "ipython",
    "version": 3
   },
   "file_extension": ".py",
   "mimetype": "text/x-python",
   "name": "python",
   "nbconvert_exporter": "python",
   "pygments_lexer": "ipython3",
   "version": "3.9.7"
  }
 },
 "nbformat": 4,
 "nbformat_minor": 5
}
