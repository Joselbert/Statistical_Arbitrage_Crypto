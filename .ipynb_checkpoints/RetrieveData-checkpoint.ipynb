{
 "cells": [
  {
   "cell_type": "code",
   "execution_count": 1,
   "id": "3f45e8ef",
   "metadata": {},
   "outputs": [],
   "source": [
    "from functions.UtilsRetrieveData import *"
   ]
  },
  {
   "cell_type": "code",
   "execution_count": 2,
   "id": "503f9950",
   "metadata": {},
   "outputs": [
    {
     "name": "stdout",
     "output_type": "stream",
     "text": [
      "100% [..........................................................................] 2134308 / 2134308"
     ]
    },
    {
     "data": {
      "text/plain": [
       "'Completed'"
      ]
     },
     "execution_count": 2,
     "metadata": {},
     "output_type": "execute_result"
    }
   ],
   "source": [
    "name = \"ETHUSDT\"\n",
    "bounds = [\"2021-01\", \"2021-12\"]\n",
    "dates = create_listdates(bounds)\n",
    "downloadList(name, dates, n_job = 2)"
   ]
  },
  {
   "cell_type": "code",
   "execution_count": 3,
   "id": "3a8e6368",
   "metadata": {},
   "outputs": [
    {
     "name": "stdout",
     "output_type": "stream",
     "text": [
      "100% [..........................................................................] 1765545 / 1765545"
     ]
    },
    {
     "data": {
      "text/plain": [
       "'Completed'"
      ]
     },
     "execution_count": 3,
     "metadata": {},
     "output_type": "execute_result"
    }
   ],
   "source": [
    "name = \"BNBUSDT\"\n",
    "bounds = [\"2021-01\", \"2021-12\"]\n",
    "dates = create_listdates(bounds)\n",
    "downloadList(name, dates, n_job = 2)"
   ]
  },
  {
   "cell_type": "code",
   "execution_count": 4,
   "id": "94c67382",
   "metadata": {},
   "outputs": [
    {
     "name": "stdout",
     "output_type": "stream",
     "text": [
      "100% [..........................................................................] 1720156 / 1720156"
     ]
    },
    {
     "data": {
      "text/plain": [
       "'Completed'"
      ]
     },
     "execution_count": 4,
     "metadata": {},
     "output_type": "execute_result"
    }
   ],
   "source": [
    "name = \"XRPUSDT\"\n",
    "bounds = [\"2021-01\", \"2021-12\"]\n",
    "dates = create_listdates(bounds)\n",
    "downloadList(name, dates, n_job =  2)"
   ]
  },
  {
   "cell_type": "code",
   "execution_count": 5,
   "id": "87aba7c8",
   "metadata": {},
   "outputs": [
    {
     "name": "stdout",
     "output_type": "stream",
     "text": [
      "100% [..........................................................................] 2242006 / 2242006"
     ]
    },
    {
     "data": {
      "text/plain": [
       "'Completed'"
      ]
     },
     "execution_count": 5,
     "metadata": {},
     "output_type": "execute_result"
    }
   ],
   "source": [
    "name = \"BTCUSDT\"\n",
    "bounds = [\"2021-01\", \"2021-12\"]\n",
    "dates = create_listdates(bounds)\n",
    "downloadList(name, dates, n_job = 2)\n"
   ]
  },
  {
   "cell_type": "code",
   "execution_count": 6,
   "id": "b11e48de",
   "metadata": {},
   "outputs": [
    {
     "name": "stdout",
     "output_type": "stream",
     "text": [
      "100% [..........................................................................] 1641852 / 1641852"
     ]
    },
    {
     "data": {
      "text/plain": [
       "'Completed'"
      ]
     },
     "execution_count": 6,
     "metadata": {},
     "output_type": "execute_result"
    }
   ],
   "source": [
    "name = \"ADAUSDT\"\n",
    "bounds = [\"2021-01\", \"2021-12\"]\n",
    "dates = create_listdates(bounds)\n",
    "downloadList(name, dates, n_job = 2)"
   ]
  },
  {
   "cell_type": "code",
   "execution_count": 9,
   "id": "1033ae4e",
   "metadata": {},
   "outputs": [
    {
     "name": "stdout",
     "output_type": "stream",
     "text": [
      "100% [..........................................................................] 1793674 / 1793674"
     ]
    },
    {
     "data": {
      "text/plain": [
       "'Completed'"
      ]
     },
     "execution_count": 9,
     "metadata": {},
     "output_type": "execute_result"
    }
   ],
   "source": [
    "name = \"SOLUSDT\"\n",
    "bounds = [\"2021-01\", \"2021-12\"]\n",
    "dates = create_listdates(bounds)\n",
    "downloadList(name, dates, n_job = 6)"
   ]
  },
  {
   "cell_type": "code",
   "execution_count": 10,
   "id": "b578d71f",
   "metadata": {},
   "outputs": [
    {
     "name": "stdout",
     "output_type": "stream",
     "text": [
      "100% [..........................................................................] 1612764 / 1612764"
     ]
    },
    {
     "data": {
      "text/plain": [
       "'Completed'"
      ]
     },
     "execution_count": 10,
     "metadata": {},
     "output_type": "execute_result"
    }
   ],
   "source": [
    "name = \"DOGEUSDT\"\n",
    "bounds = [\"2021-01\", \"2021-12\"]\n",
    "dates = create_listdates(bounds)\n",
    "downloadList(name, dates, n_job = 4)"
   ]
  },
  {
   "cell_type": "code",
   "execution_count": 2,
   "id": "bfcdad06",
   "metadata": {},
   "outputs": [
    {
     "name": "stdout",
     "output_type": "stream",
     "text": [
      "100% [..........................................................................] 1532417 / 1532417"
     ]
    }
   ],
   "source": [
    "#retrieve December \n",
    "names = [\"ETHUSDT\", \"BNBUSDT\", \"XRPUSDT\", \"BTCUSDT\", \"ADAUSDT\", \"SOLUSDT\", \"DOGEUSDT\"]\n",
    "for name in names:\n",
    "    disk = \"H:\"\n",
    "    dates = [\"2020-12\"]\n",
    "    downloadList(name, dates, folder = disk, n_job = 6)"
   ]
  },
  {
   "cell_type": "code",
   "execution_count": null,
   "id": "47165f6b",
   "metadata": {},
   "outputs": [],
   "source": []
  }
 ],
 "metadata": {
  "kernelspec": {
   "display_name": "Python 3 (ipykernel)",
   "language": "python",
   "name": "python3"
  },
  "language_info": {
   "codemirror_mode": {
    "name": "ipython",
    "version": 3
   },
   "file_extension": ".py",
   "mimetype": "text/x-python",
   "name": "python",
   "nbconvert_exporter": "python",
   "pygments_lexer": "ipython3",
   "version": "3.9.7"
  }
 },
 "nbformat": 4,
 "nbformat_minor": 5
}
