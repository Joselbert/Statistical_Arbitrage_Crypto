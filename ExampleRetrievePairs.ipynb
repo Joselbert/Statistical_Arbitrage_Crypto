{
 "cells": [
  {
   "cell_type": "code",
   "execution_count": 3,
   "id": "071b34de",
   "metadata": {},
   "outputs": [],
   "source": [
    "from functions.UtilsGoogleDrive import *\n",
    "import os\n",
    "import shutil\n",
    "\n",
    "\"\"\"\n",
    "example of retrieving a pair result from the drive\n",
    "\"\"\"\n",
    "\n",
    "idx = \"1Vg9w6RpPjukasvRqxM4cqPxabDi9MeyS\""
   ]
  },
  {
   "cell_type": "code",
   "execution_count": 4,
   "id": "a4f8f8e2",
   "metadata": {},
   "outputs": [
    {
     "name": "stdout",
     "output_type": "stream",
     "text": [
      "['BUSD_USDC', 'ETH_XRP']\n"
     ]
    }
   ],
   "source": [
    "files = FilesAvailableDrive(folder_id=idx)\n",
    "available_couple = [j[\"title\"] for j in files]\n",
    "print(available_couple)"
   ]
  },
  {
   "cell_type": "code",
   "execution_count": 5,
   "id": "fa48d3c9",
   "metadata": {},
   "outputs": [
    {
     "name": "stdout",
     "output_type": "stream",
     "text": [
      "Downloading BUSD_USDC.joblib file from GDrive (1/2)\n",
      "Downloading df_beta_USDC_BUSD_0.5_days_adfuller.csv.gz file from GDrive (2/2)\n"
     ]
    }
   ],
   "source": [
    "RetrieveFolder(files, \"BUSD_USDC\", output_folder=\"H:\")"
   ]
  },
  {
   "cell_type": "code",
   "execution_count": null,
   "id": "f1f57015",
   "metadata": {},
   "outputs": [],
   "source": []
  }
 ],
 "metadata": {
  "kernelspec": {
   "display_name": "Python 3 (ipykernel)",
   "language": "python",
   "name": "python3"
  },
  "language_info": {
   "codemirror_mode": {
    "name": "ipython",
    "version": 3
   },
   "file_extension": ".py",
   "mimetype": "text/x-python",
   "name": "python",
   "nbconvert_exporter": "python",
   "pygments_lexer": "ipython3",
   "version": "3.9.7"
  }
 },
 "nbformat": 4,
 "nbformat_minor": 5
}
