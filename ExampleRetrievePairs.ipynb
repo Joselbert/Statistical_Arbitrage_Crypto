{
 "cells": [
  {
   "cell_type": "code",
   "execution_count": 1,
   "id": "071b34de",
   "metadata": {},
   "outputs": [],
   "source": [
    "from functions.UtilsGoogleDrive import *\n",
    "import os\n",
    "import shutil\n",
    "\n",
    "\"\"\"\n",
    "example of retrieving a pair result from the drive\n",
    "\"\"\"\n",
    "\n",
    "idx = \"1Vg9w6RpPjukasvRqxM4cqPxabDi9MeyS\""
   ]
  },
  {
   "cell_type": "code",
   "execution_count": 2,
   "id": "a4f8f8e2",
   "metadata": {},
   "outputs": [
    {
     "name": "stdout",
     "output_type": "stream",
     "text": [
      "['XRP_BNB', 'ETH_BNB', 'BTC_BNB']\n"
     ]
    }
   ],
   "source": [
    "files = FilesAvailableDrive(folder_id=idx)\n",
    "available_couple = [j[\"title\"] for j in files]\n",
    "print(available_couple)"
   ]
  },
  {
   "cell_type": "code",
   "execution_count": 4,
   "id": "fa48d3c9",
   "metadata": {},
   "outputs": [
    {
     "name": "stdout",
     "output_type": "stream",
     "text": [
      "Downloading XRP_BNB.joblib file from GDrive (1/3)\n",
      "Downloading XRP_BNB_2020-12.png file from GDrive (2/3)\n",
      "Downloading df_beta_BNB_XRP_0.5_days_adfuller.csv.gz file from GDrive (3/3)\n"
     ]
    }
   ],
   "source": [
    "RetrieveFolder(files, \"XRP_BNB\", output_folder=\"C:/Users/giova/Downloads/\")"
   ]
  },
  {
   "cell_type": "code",
   "execution_count": null,
   "id": "f1f57015",
   "metadata": {},
   "outputs": [],
   "source": []
  }
 ],
 "metadata": {
  "kernelspec": {
   "display_name": "Python 3 (ipykernel)",
   "language": "python",
   "name": "python3"
  },
  "language_info": {
   "codemirror_mode": {
    "name": "ipython",
    "version": 3
   },
   "file_extension": ".py",
   "mimetype": "text/x-python",
   "name": "python",
   "nbconvert_exporter": "python",
   "pygments_lexer": "ipython3",
   "version": "3.9.7"
  }
 },
 "nbformat": 4,
 "nbformat_minor": 5
}
