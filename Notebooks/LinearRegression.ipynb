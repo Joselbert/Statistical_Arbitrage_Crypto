{
 "cells": [
  {
   "cell_type": "code",
   "execution_count": 13,
   "id": "6386b9f6",
   "metadata": {},
   "outputs": [],
   "source": [
    "import pandas as pd\n",
    "from UtilsCreateDataFrame import *\n",
    "import sklearn\n",
    "from sklearn.linear_model import LinearRegression\n",
    "from sklearn.metrics import r2_score\n",
    "import numpy as np \n",
    "from dataclasses import dataclass\n",
    "import matplotlib.pyplot as plt"
   ]
  },
  {
   "cell_type": "code",
   "execution_count": 4,
   "id": "f09b20c8",
   "metadata": {},
   "outputs": [],
   "source": [
    "input_folder = \"H:\"\n",
    "output_folder = \"H:\"\n",
    "date = \"2021-01\"\n",
    "to_save = True\n",
    "tickers = [\"BTC\", \"ETH\"]\n",
    "\n",
    "df = createDataFrame(\n",
    "    input_folder=input_folder,\n",
    "    date=date,\n",
    "    tickers=tickers,\n",
    "    frequency=\"1min\",\n",
    "    n_job=4,\n",
    "    to_save=to_save,\n",
    ")"
   ]
  },
  {
   "cell_type": "code",
   "execution_count": 5,
   "id": "c410ca19",
   "metadata": {},
   "outputs": [],
   "source": [
    "@dataclass(slots = True)\n",
    "class ResultLR:\n",
    "    beta : float\n",
    "    intercept : float\n",
    "    r2 : float\n",
    "    residuals : np.array \n",
    "\n",
    "\n",
    "def linearRegression(df, x_name , y_name):\n",
    "    \"\"\"\n",
    "    function that fits a linear regression and return several objects: \n",
    "    Inputs: \n",
    "        -df: pd.DataFrame\n",
    "                pandas dataframe containing as columns the assets\n",
    "        -x_name: str\n",
    "                asset to use as x, e.g. \"BTC\"\n",
    "        -y_name: str\n",
    "                asset to use as y: e.g. \"ETH\"\n",
    "    Outputs:\n",
    "        -result: ResultLR\n",
    "    \n",
    "    \"\"\"\n",
    "    #create x vector and y vector \n",
    "    x = df[x_name].to_numpy().reshape(-1,1)\n",
    "    y = df[y_name].to_numpy().reshape(-1,1)\n",
    "    #fit the model\n",
    "    mod = LinearRegression().fit(x, y)\n",
    "    #predicted values\n",
    "    pred = mod.predict(x).reshape(-1,1)\n",
    "    r2 = r2_score(y_true = y, y_pred = pred)\n",
    "    residuals = y.flatten() - pred.flatten()\n",
    "    result = ResultLR(mod.coef_.item(), mod.intercept_.item(), r2, residuals)\n",
    "    return result\n",
    "\n",
    "result = linearRegression(df.iloc[0:100], \"BTC\", \"ETH\")"
   ]
  },
  {
   "cell_type": "code",
   "execution_count": 10,
   "id": "78675e85",
   "metadata": {},
   "outputs": [
    {
     "data": {
      "text/plain": [
       "0.020516643917401427"
      ]
     },
     "execution_count": 10,
     "metadata": {},
     "output_type": "execute_result"
    }
   ],
   "source": [
    "result.beta"
   ]
  },
  {
   "cell_type": "code",
   "execution_count": 11,
   "id": "44e07783",
   "metadata": {},
   "outputs": [
    {
     "data": {
      "text/plain": [
       "140.34541445405068"
      ]
     },
     "execution_count": 11,
     "metadata": {},
     "output_type": "execute_result"
    }
   ],
   "source": [
    "result.intercept"
   ]
  },
  {
   "cell_type": "code",
   "execution_count": 12,
   "id": "be629960",
   "metadata": {},
   "outputs": [
    {
     "data": {
      "text/plain": [
       "0.9408645787263595"
      ]
     },
     "execution_count": 12,
     "metadata": {},
     "output_type": "execute_result"
    }
   ],
   "source": [
    "result.r2"
   ]
  },
  {
   "cell_type": "code",
   "execution_count": 15,
   "id": "30dff4c6",
   "metadata": {},
   "outputs": [
    {
     "data": {
      "text/plain": [
       "[<matplotlib.lines.Line2D at 0x1c7ab69c7c0>]"
      ]
     },
     "execution_count": 15,
     "metadata": {},
     "output_type": "execute_result"
    },
    {
     "data": {
      "image/png": "[encoded data removed]",
      "text/plain": [
       "<Figure size 432x288 with 1 Axes>"
      ]
     },
     "metadata": {
      "needs_background": "light"
     },
     "output_type": "display_data"
    }
   ],
   "source": [
    "plt.plot(result.residuals)"
   ]
  },
  {
   "cell_type": "code",
   "execution_count": null,
   "id": "2e2b3f84",
   "metadata": {},
   "outputs": [],
   "source": []
  }
 ],
 "metadata": {
  "kernelspec": {
   "display_name": "Python 3 (ipykernel)",
   "language": "python",
   "name": "python3"
  },
  "language_info": {
   "codemirror_mode": {
    "name": "ipython",
    "version": 3
   },
   "file_extension": ".py",
   "mimetype": "text/x-python",
   "name": "python",
   "nbconvert_exporter": "python",
   "pygments_lexer": "ipython3",
   "version": "3.9.7"
  }
 },
 "nbformat": 4,
 "nbformat_minor": 5
}
