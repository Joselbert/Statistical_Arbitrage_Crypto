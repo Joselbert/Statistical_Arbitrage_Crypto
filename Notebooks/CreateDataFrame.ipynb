{
 "cells": [
  {
   "cell_type": "code",
   "execution_count": 1,
   "id": "6386b9f6",
   "metadata": {},
   "outputs": [],
   "source": [
    "import pandas as pd\n",
    "from UtilsCreateDataFrame import *"
   ]
  },
  {
   "cell_type": "code",
   "execution_count": 2,
   "id": "f09b20c8",
   "metadata": {},
   "outputs": [],
   "source": [
    "input_folder = \"H:\"\n",
    "output_folder = \"H:\"\n",
    "date = \"2021-01\"\n",
    "to_save = True\n",
    "tickers = [\"SOL\", \"ETH\", \"XRP\", \"ADA\"]\n",
    "\n",
    "df = createDataFrame(\n",
    "    input_folder=input_folder,\n",
    "    date=date,\n",
    "    tickers=tickers,\n",
    "    frequency=\"1min\",\n",
    "    n_job=4,\n",
    "    output_name=\"Test001\",\n",
    "    output_folder=output_folder,\n",
    "    to_save=to_save,\n",
    ")"
   ]
  },
  {
   "cell_type": "code",
   "execution_count": 3,
   "id": "c410ca19",
   "metadata": {},
   "outputs": [
    {
     "data": {
      "text/html": [
       "<div>\n",
       "<style scoped>\n",
       "    .dataframe tbody tr th:only-of-type {\n",
       "        vertical-align: middle;\n",
       "    }\n",
       "\n",
       "    .dataframe tbody tr th {\n",
       "        vertical-align: top;\n",
       "    }\n",
       "\n",
       "    .dataframe thead th {\n",
       "        text-align: right;\n",
       "    }\n",
       "</style>\n",
       "<table border=\"1\" class=\"dataframe\">\n",
       "  <thead>\n",
       "    <tr style=\"text-align: right;\">\n",
       "      <th></th>\n",
       "      <th>SOL</th>\n",
       "      <th>ETH</th>\n",
       "      <th>XRP</th>\n",
       "      <th>ADA</th>\n",
       "    </tr>\n",
       "    <tr>\n",
       "      <th>time</th>\n",
       "      <th></th>\n",
       "      <th></th>\n",
       "      <th></th>\n",
       "      <th></th>\n",
       "    </tr>\n",
       "  </thead>\n",
       "  <tbody>\n",
       "    <tr>\n",
       "      <th>2021-01-01 00:00:00+00:00</th>\n",
       "      <td>1.5097</td>\n",
       "      <td>737.02</td>\n",
       "      <td>0.21946</td>\n",
       "      <td>0.18130</td>\n",
       "    </tr>\n",
       "    <tr>\n",
       "      <th>2021-01-01 00:01:00+00:00</th>\n",
       "      <td>1.5170</td>\n",
       "      <td>738.74</td>\n",
       "      <td>0.22048</td>\n",
       "      <td>0.18140</td>\n",
       "    </tr>\n",
       "    <tr>\n",
       "      <th>2021-01-01 00:02:00+00:00</th>\n",
       "      <td>1.5152</td>\n",
       "      <td>737.82</td>\n",
       "      <td>0.22017</td>\n",
       "      <td>0.18113</td>\n",
       "    </tr>\n",
       "    <tr>\n",
       "      <th>2021-01-01 00:03:00+00:00</th>\n",
       "      <td>1.5144</td>\n",
       "      <td>737.43</td>\n",
       "      <td>0.22026</td>\n",
       "      <td>0.18092</td>\n",
       "    </tr>\n",
       "    <tr>\n",
       "      <th>2021-01-01 00:04:00+00:00</th>\n",
       "      <td>1.5137</td>\n",
       "      <td>736.89</td>\n",
       "      <td>0.22032</td>\n",
       "      <td>0.18052</td>\n",
       "    </tr>\n",
       "  </tbody>\n",
       "</table>\n",
       "</div>"
      ],
      "text/plain": [
       "                              SOL     ETH      XRP      ADA\n",
       "time                                                       \n",
       "2021-01-01 00:00:00+00:00  1.5097  737.02  0.21946  0.18130\n",
       "2021-01-01 00:01:00+00:00  1.5170  738.74  0.22048  0.18140\n",
       "2021-01-01 00:02:00+00:00  1.5152  737.82  0.22017  0.18113\n",
       "2021-01-01 00:03:00+00:00  1.5144  737.43  0.22026  0.18092\n",
       "2021-01-01 00:04:00+00:00  1.5137  736.89  0.22032  0.18052"
      ]
     },
     "execution_count": 3,
     "metadata": {},
     "output_type": "execute_result"
    }
   ],
   "source": [
    "df.head()"
   ]
  },
  {
   "cell_type": "code",
   "execution_count": null,
   "id": "78675e85",
   "metadata": {},
   "outputs": [],
   "source": []
  }
 ],
 "metadata": {
  "kernelspec": {
   "display_name": "Python 3 (ipykernel)",
   "language": "python",
   "name": "python3"
  },
  "language_info": {
   "codemirror_mode": {
    "name": "ipython",
    "version": 3
   },
   "file_extension": ".py",
   "mimetype": "text/x-python",
   "name": "python",
   "nbconvert_exporter": "python",
   "pygments_lexer": "ipython3",
   "version": "3.9.7"
  }
 },
 "nbformat": 4,
 "nbformat_minor": 5
}
