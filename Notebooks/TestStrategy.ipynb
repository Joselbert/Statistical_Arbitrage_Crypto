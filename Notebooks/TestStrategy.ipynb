{
 "cells": [
  {
   "cell_type": "code",
   "execution_count": 1,
   "id": "6386b9f6",
   "metadata": {},
   "outputs": [],
   "source": [
    "import pandas as pd\n",
    "from UtilsCreateDataFrame import *\n",
    "import numpy as np\n",
    "from dataclasses import dataclass, asdict\n",
    "import matplotlib.pyplot as plt\n",
    "import numpy_ext as npe\n",
    "from statsmodels.tsa.stattools import adfuller\n",
    "from Strategy import *\n",
    "from Regression import *\n",
    "import datetime\n"
   ]
  },
  {
   "cell_type": "code",
   "execution_count": 2,
   "id": "44a686a5",
   "metadata": {},
   "outputs": [],
   "source": [
    "def loadCreatedDataFrame(path):\n",
    "    df_ = pd.read_csv(path)\n",
    "    df_ = df_.set_index(pd.to_datetime(df_.time))\n",
    "    df_.drop(columns = [\"time\"], inplace = True)\n",
    "    return df_\n",
    "    \n",
    "\n",
    "path = \"BTC_ETH_2021-01.csv.gz\"\n",
    "df_ = loadCreatedDataFrame(path)\n"
   ]
  },
  {
   "cell_type": "code",
   "execution_count": null,
   "id": "f69cb952",
   "metadata": {},
   "outputs": [],
   "source": [
    "\"\"\"\n",
    "\n",
    "with 1minute frequency a day has 1440 observations\n",
    "let's try this on two week \n",
    "\n",
    "\"\"\"\n",
    "index_input = df_.index\n",
    "x, y = df_.to_numpy()[:,0], df_.to_numpy()[:,1]\n",
    "window = int(1440)\n",
    "last = 1440*7\n",
    "rolling = npe.rolling_apply(linearRegression_np, window, x[:last], y[:last], n_jobs = 4)\n",
    "df_beta = ResultDataFrame(rolling, index_input[:last])\n",
    "df_beta\n"
   ]
  },
  {
   "cell_type": "code",
   "execution_count": null,
   "id": "df146139",
   "metadata": {},
   "outputs": [],
   "source": [
    "\"\"\"\n",
    "TEST 1\n",
    "trading_window = 1 day\n",
    "\"\"\"\n",
    "\n",
    "result_strategy = applyStrategyRolling(\n",
    "    df_beta = df_beta,\n",
    "    df_price = df_,\n",
    "    trading_window_day = 1, \n",
    "    thr_pval = 0.1\n",
    ")\n",
    "\n",
    "df_trades = strategyDataFrame(result_strategy)\n",
    "print(\"\\nTotal Return: \", df_trades.ret_.prod(), \"\\n\")\n",
    "df_trades"
   ]
  },
  {
   "cell_type": "code",
   "execution_count": null,
   "id": "22392313",
   "metadata": {},
   "outputs": [],
   "source": [
    "\"\"\"\n",
    "TEST 2\n",
    "trading window = 0.5 day \n",
    "\"\"\"\n",
    "\n",
    "result_strategy = applyStrategyRolling(\n",
    "    df_beta = df_beta,\n",
    "    df_price = df_,\n",
    "    trading_window_day = 0.5, \n",
    "    thr_pval = 0.1\n",
    ")\n",
    "\n",
    "df_trades = strategyDataFrame(result_strategy)\n",
    "print(\"\\nTotal Return: \", df_trades.ret_.prod(), \"\\n\")\n",
    "df_trades"
   ]
  },
  {
   "cell_type": "code",
   "execution_count": null,
   "id": "1e08f369",
   "metadata": {},
   "outputs": [],
   "source": [
    "\"\"\"\n",
    "TEST 2\n",
    "trading window = 0.25 day \n",
    "\"\"\"\n",
    "\n",
    "result_strategy = applyStrategyRolling(\n",
    "    df_beta = df_beta,\n",
    "    df_price = df_,\n",
    "    trading_window_day = 0.25, \n",
    "    thr_pval = 0.1\n",
    ")\n",
    "\n",
    "df_trades = strategyDataFrame(result_strategy)\n",
    "print(\"\\nTotal Return: \", df_trades.ret_.prod(), \"\\n\")\n",
    "df_trades"
   ]
  }
 ],
 "metadata": {
  "kernelspec": {
   "display_name": "Python 3 (ipykernel)",
   "language": "python",
   "name": "python3"
  },
  "language_info": {
   "codemirror_mode": {
    "name": "ipython",
    "version": 3
   },
   "file_extension": ".py",
   "mimetype": "text/x-python",
   "name": "python",
   "nbconvert_exporter": "python",
   "pygments_lexer": "ipython3",
   "version": "3.9.7"
  }
 },
 "nbformat": 4,
 "nbformat_minor": 5
}
