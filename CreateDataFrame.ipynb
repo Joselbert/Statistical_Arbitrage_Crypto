{
 "cells": [
  {
   "cell_type": "code",
   "execution_count": 1,
   "id": "6386b9f6",
   "metadata": {},
   "outputs": [],
   "source": [
    "import pandas as pd\n",
    "from functions.UtilsCreateDataFrame import *"
   ]
  },
  {
   "cell_type": "code",
   "execution_count": 2,
   "id": "f09b20c8",
   "metadata": {},
   "outputs": [],
   "source": [
    "input_folder = \"H:\"\n",
    "output_folder = \"H:\"\n",
    "date = \"2021-01\"\n",
    "to_save = True\n",
    "tickers = [\"STPT\"]\n",
    "\n",
    "df = createDataFrame(\n",
    "    input_folder=input_folder,\n",
    "    date=date,\n",
    "    tickers=tickers,\n",
    "    frequency=\"1min\",\n",
    "    n_job=4,\n",
    "    to_save=to_save,\n",
    ")"
   ]
  },
  {
   "cell_type": "code",
   "execution_count": 3,
   "id": "b2e09592",
   "metadata": {},
   "outputs": [
    {
     "data": {
      "text/html": [
       "<div>\n",
       "<style scoped>\n",
       "    .dataframe tbody tr th:only-of-type {\n",
       "        vertical-align: middle;\n",
       "    }\n",
       "\n",
       "    .dataframe tbody tr th {\n",
       "        vertical-align: top;\n",
       "    }\n",
       "\n",
       "    .dataframe thead th {\n",
       "        text-align: right;\n",
       "    }\n",
       "</style>\n",
       "<table border=\"1\" class=\"dataframe\">\n",
       "  <thead>\n",
       "    <tr style=\"text-align: right;\">\n",
       "      <th></th>\n",
       "      <th>STPT</th>\n",
       "    </tr>\n",
       "    <tr>\n",
       "      <th>time</th>\n",
       "      <th></th>\n",
       "    </tr>\n",
       "  </thead>\n",
       "  <tbody>\n",
       "    <tr>\n",
       "      <th>2021-01-01 00:00:59.999000+00:00</th>\n",
       "      <td>0.016670</td>\n",
       "    </tr>\n",
       "    <tr>\n",
       "      <th>2021-01-01 00:01:59.999000+00:00</th>\n",
       "      <td>0.016480</td>\n",
       "    </tr>\n",
       "    <tr>\n",
       "      <th>2021-01-01 00:02:59.999000+00:00</th>\n",
       "      <td>0.016480</td>\n",
       "    </tr>\n",
       "    <tr>\n",
       "      <th>2021-01-01 00:03:59.999000+00:00</th>\n",
       "      <td>0.016590</td>\n",
       "    </tr>\n",
       "    <tr>\n",
       "      <th>2021-01-01 00:04:59.999000+00:00</th>\n",
       "      <td>0.016590</td>\n",
       "    </tr>\n",
       "    <tr>\n",
       "      <th>...</th>\n",
       "      <td>...</td>\n",
       "    </tr>\n",
       "    <tr>\n",
       "      <th>2021-01-31 23:55:59.999000+00:00</th>\n",
       "      <td>0.021580</td>\n",
       "    </tr>\n",
       "    <tr>\n",
       "      <th>2021-01-31 23:56:59.999000+00:00</th>\n",
       "      <td>0.021580</td>\n",
       "    </tr>\n",
       "    <tr>\n",
       "      <th>2021-01-31 23:57:59.999000+00:00</th>\n",
       "      <td>0.021595</td>\n",
       "    </tr>\n",
       "    <tr>\n",
       "      <th>2021-01-31 23:58:59.999000+00:00</th>\n",
       "      <td>0.021600</td>\n",
       "    </tr>\n",
       "    <tr>\n",
       "      <th>2021-01-31 23:59:59.999000+00:00</th>\n",
       "      <td>0.021600</td>\n",
       "    </tr>\n",
       "  </tbody>\n",
       "</table>\n",
       "<p>44640 rows × 1 columns</p>\n",
       "</div>"
      ],
      "text/plain": [
       "                                      STPT\n",
       "time                                      \n",
       "2021-01-01 00:00:59.999000+00:00  0.016670\n",
       "2021-01-01 00:01:59.999000+00:00  0.016480\n",
       "2021-01-01 00:02:59.999000+00:00  0.016480\n",
       "2021-01-01 00:03:59.999000+00:00  0.016590\n",
       "2021-01-01 00:04:59.999000+00:00  0.016590\n",
       "...                                    ...\n",
       "2021-01-31 23:55:59.999000+00:00  0.021580\n",
       "2021-01-31 23:56:59.999000+00:00  0.021580\n",
       "2021-01-31 23:57:59.999000+00:00  0.021595\n",
       "2021-01-31 23:58:59.999000+00:00  0.021600\n",
       "2021-01-31 23:59:59.999000+00:00  0.021600\n",
       "\n",
       "[44640 rows x 1 columns]"
      ]
     },
     "execution_count": 3,
     "metadata": {},
     "output_type": "execute_result"
    }
   ],
   "source": [
    "df"
   ]
  },
  {
   "cell_type": "code",
   "execution_count": null,
   "id": "1548edf7",
   "metadata": {},
   "outputs": [],
   "source": []
  }
 ],
 "metadata": {
  "kernelspec": {
   "display_name": "Python 3 (ipykernel)",
   "language": "python",
   "name": "python3"
  },
  "language_info": {
   "codemirror_mode": {
    "name": "ipython",
    "version": 3
   },
   "file_extension": ".py",
   "mimetype": "text/x-python",
   "name": "python",
   "nbconvert_exporter": "python",
   "pygments_lexer": "ipython3",
   "version": "3.9.7"
  }
 },
 "nbformat": 4,
 "nbformat_minor": 5
}
